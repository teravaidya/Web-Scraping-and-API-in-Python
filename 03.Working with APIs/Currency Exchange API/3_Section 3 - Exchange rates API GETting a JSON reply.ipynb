{
 "cells": [
  {
   "cell_type": "markdown",
   "id": "7c031013",
   "metadata": {},
   "source": [
    "Pulling data from public APIs (without registration) - GET request"
   ]
  },
  {
   "cell_type": "code",
   "execution_count": 61,
   "id": "d8d9126f",
   "metadata": {},
   "outputs": [],
   "source": [
    "# loading the packages\n",
    "# requests provides us with the capabilities of sending an HTTP request to a server\n",
    "import requests"
   ]
  },
  {
   "cell_type": "markdown",
   "id": "8a9b3f66",
   "metadata": {},
   "source": [
    "Extracting data on currency exchange rates"
   ]
  },
  {
   "cell_type": "code",
   "execution_count": 62,
   "id": "42ad7206",
   "metadata": {},
   "outputs": [],
   "source": [
    "base_url = \"https://api.apilayer.com/exchangerates_data/latest\""
   ]
  },
  {
   "cell_type": "markdown",
   "id": "9148ed9c",
   "metadata": {},
   "source": [
    "Sending a GET request"
   ]
  },
  {
   "cell_type": "code",
   "execution_count": 63,
   "id": "614380dd",
   "metadata": {},
   "outputs": [],
   "source": [
    "# We can make a GET request to this API endpoint with requests.get or requests.request(\"GET\",base_url)\n",
    "payload = {}\n",
    "headers= {\n",
    "  \"apikey\": \"XWc9W74Zj5eRLEdY5VzPsmiIXKAHWUUw\"\n",
    "}\n",
    "response = requests.request(\"GET\", base_url, headers=headers, data = payload)\n",
    "# This method returns the response from the server\n",
    "# We store this response in a variable for future processing"
   ]
  },
  {
   "cell_type": "markdown",
   "id": "ec65854f",
   "metadata": {},
   "source": [
    "Investigating the response"
   ]
  },
  {
   "cell_type": "code",
   "execution_count": 65,
   "id": "ebe01700",
   "metadata": {},
   "outputs": [
    {
     "data": {
      "text/plain": [
       "True"
      ]
     },
     "execution_count": 65,
     "metadata": {},
     "output_type": "execute_result"
    }
   ],
   "source": [
    "# Checking if the request went through ok\n",
    "response.ok"
   ]
  },
  {
   "cell_type": "code",
   "execution_count": 66,
   "id": "4273d947",
   "metadata": {},
   "outputs": [
    {
     "data": {
      "text/plain": [
       "200"
      ]
     },
     "execution_count": 66,
     "metadata": {},
     "output_type": "execute_result"
    }
   ],
   "source": [
    "# Checking the status code of the responseresponse.ok\n",
    "response.status_code"
   ]
  },
  {
   "cell_type": "code",
   "execution_count": 67,
   "id": "c143a21f",
   "metadata": {},
   "outputs": [
    {
     "data": {
      "text/plain": [
       "'{\\n    \"success\": true,\\n    \"timestamp\": 1672436283,\\n    \"base\": \"EUR\",\\n    \"date\": \"2022-12-30\",\\n    \"rates\": {\\n        \"AED\": 3.93065,\\n        \"AFN\": 93.652221,\\n        \"ALL\": 114.518457,\\n        \"AMD\": 421.39578,\\n        \"ANG\": 1.929025,\\n        \"AOA\": 539.081517,\\n        \"ARS\": 189.159971,\\n        \"AUD\": 1.570236,\\n        \"AWG\": 1.926472,\\n        \"AZN\": 1.823695,\\n        \"BAM\": 1.960753,\\n        \"BBD\": 2.161046,\\n        \"BDT\": 110.40739,\\n        \"BGN\": 1.956017,\\n        \"BHD\": 0.403525,\\n        \"BIF\": 2206.880801,\\n        \"BMD\": 1.070262,\\n        \"BND\": 1.434462,\\n        \"BOB\": 7.395839,\\n        \"BRL\": 5.658374,\\n        \"BSD\": 1.070297,\\n        \"BTC\": 6.4497905e-05,\\n        \"BTN\": 88.382331,\\n        \"BWP\": 13.651878,\\n        \"BYN\": 2.701583,\\n        \"BYR\": 20977.140498,\\n        \"BZD\": 2.157478,\\n        \"CAD\": 1.449617,\\n        \"CDF\": 2172.632796,\\n        \"CHF\": 0.989361,\\n        \"CLF\": 0.032911,\\n        \"CLP\": 908.121723,\\n        \"CNY\": 7.382995,\\n        \"COP\": 5189.348562,\\n        \"CRC\": 633.306768,\\n        \"CUC\": 1.070262,\\n        \"CUP\": 28.36195,\\n        \"CVE\": 110.562263,\\n        \"CZK\": 24.156038,\\n        \"DJF\": 190.207432,\\n        \"DKK\": 7.437296,\\n        \"DOP\": 60.202673,\\n        \"DZD\": 146.996216,\\n        \"EGP\": 26.499377,\\n        \"ERN\": 16.053934,\\n        \"ETB\": 57.370206,\\n        \"EUR\": 1,\\n        \"FJD\": 2.377096,\\n        \"FKP\": 0.887435,\\n        \"GBP\": 0.884684,\\n        \"GEL\": 2.893843,\\n        \"GGP\": 0.887435,\\n        \"GHS\": 572.487418,\\n        \"GIP\": 0.887435,\\n        \"GMD\": 66.303165,\\n        \"GNF\": 9386.200491,\\n        \"GTQ\": 8.399622,\\n        \"GYD\": 223.933772,\\n        \"HKD\": 8.358588,\\n        \"HNL\": 26.408764,\\n        \"HRK\": 7.537005,\\n        \"HTG\": 158.406215,\\n        \"HUF\": 399.347376,\\n        \"IDR\": 16617.748219,\\n        \"ILS\": 3.776153,\\n        \"IMP\": 0.887435,\\n        \"INR\": 88.615201,\\n        \"IQD\": 1563.118046,\\n        \"IRR\": 44790.47639,\\n        \"ISK\": 151.517443,\\n        \"JEP\": 0.887435,\\n        \"JMD\": 162.371518,\\n        \"JOD\": 0.759141,\\n        \"JPY\": 140.337609,\\n        \"KES\": 132.074435,\\n        \"KGS\": 91.700483,\\n        \"KHR\": 4406.270142,\\n        \"KMF\": 494.037127,\\n        \"KPW\": 963.231189,\\n        \"KRW\": 1348.306116,\\n        \"KWD\": 0.327297,\\n        \"KYD\": 0.891977,\\n        \"KZT\": 495.378537,\\n        \"LAK\": 18563.699452,\\n        \"LBP\": 1628.939549,\\n        \"LKR\": 393.35289,\\n        \"LRD\": 165.359561,\\n        \"LSL\": 18.077138,\\n        \"LTL\": 3.160207,\\n        \"LVL\": 0.647391,\\n        \"LYD\": 5.169774,\\n        \"MAD\": 11.197623,\\n        \"MDL\": 20.506318,\\n        \"MGA\": 4781.932195,\\n        \"MKD\": 61.767203,\\n        \"MMK\": 2247.729925,\\n        \"MNT\": 3677.688975,\\n        \"MOP\": 8.591934,\\n        \"MRO\": 382.083446,\\n        \"MUR\": 47.0913,\\n        \"MVR\": 16.493147,\\n        \"MWK\": 1094.878672,\\n        \"MXN\": 20.870093,\\n        \"MYR\": 4.734309,\\n        \"MZN\": 68.315245,\\n        \"NAD\": 18.077133,\\n        \"NGN\": 479.563522,\\n        \"NIO\": 38.925842,\\n        \"NOK\": 10.494548,\\n        \"NPR\": 141.41201,\\n        \"NZD\": 1.685786,\\n        \"OMR\": 0.412018,\\n        \"PAB\": 1.070332,\\n        \"PEN\": 4.053124,\\n        \"PGK\": 3.772716,\\n        \"PHP\": 59.699631,\\n        \"PKR\": 242.361292,\\n        \"PLN\": 4.689087,\\n        \"PYG\": 7881.72123,\\n        \"QAR\": 3.897093,\\n        \"RON\": 4.941442,\\n        \"RSD\": 117.258334,\\n        \"RUB\": 78.93174,\\n        \"RWF\": 1141.969842,\\n        \"SAR\": 4.022267,\\n        \"SBD\": 8.845294,\\n        \"SCR\": 14.346618,\\n        \"SDG\": 612.729086,\\n        \"SEK\": 11.161145,\\n        \"SGD\": 1.433942,\\n        \"SHP\": 1.474183,\\n        \"SLE\": 20.249579,\\n        \"SLL\": 20238.659894,\\n        \"SOS\": 608.448023,\\n        \"SRD\": 34.044013,\\n        \"STD\": 22152.268144,\\n        \"SVC\": 9.365998,\\n        \"SYP\": 2688.55667,\\n        \"SZL\": 18.077125,\\n        \"THB\": 37.07428,\\n        \"TJS\": 10.912362,\\n        \"TMT\": 3.756621,\\n        \"TND\": 3.34354,\\n        \"TOP\": 2.505752,\\n        \"TRY\": 20.024076,\\n        \"TTD\": 7.273531,\\n        \"TWD\": 32.759876,\\n        \"TZS\": 2495.851973,\\n        \"UAH\": 39.333875,\\n        \"UGX\": 3981.608838,\\n        \"USD\": 1.070262,\\n        \"UYU\": 42.776203,\\n        \"UZS\": 12013.694342,\\n        \"VEF\": 1828125.026591,\\n        \"VES\": 18.296994,\\n        \"VND\": 25295.648759,\\n        \"VUV\": 126.799315,\\n        \"WST\": 2.899268,\\n        \"XAF\": 657.635877,\\n        \"XAG\": 0.044657,\\n        \"XAU\": 0.000587,\\n        \"XCD\": 2.892438,\\n        \"XDR\": 0.804353,\\n        \"XOF\": 660.352176,\\n        \"XPF\": 120.194301,\\n        \"YER\": 267.833522,\\n        \"ZAR\": 18.201098,\\n        \"ZMK\": 9633.648588,\\n        \"ZMW\": 19.383713,\\n        \"ZWL\": 344.624014\\n    }\\n}\\n'"
      ]
     },
     "execution_count": 67,
     "metadata": {},
     "output_type": "execute_result"
    }
   ],
   "source": [
    "# Inspecting the content body of the response (as a regular 'string')\n",
    "response.text"
   ]
  },
  {
   "cell_type": "code",
   "execution_count": 68,
   "id": "64ad9769",
   "metadata": {},
   "outputs": [
    {
     "data": {
      "text/plain": [
       "b'{\\n    \"success\": true,\\n    \"timestamp\": 1672436283,\\n    \"base\": \"EUR\",\\n    \"date\": \"2022-12-30\",\\n    \"rates\": {\\n        \"AED\": 3.93065,\\n        \"AFN\": 93.652221,\\n        \"ALL\": 114.518457,\\n        \"AMD\": 421.39578,\\n        \"ANG\": 1.929025,\\n        \"AOA\": 539.081517,\\n        \"ARS\": 189.159971,\\n        \"AUD\": 1.570236,\\n        \"AWG\": 1.926472,\\n        \"AZN\": 1.823695,\\n        \"BAM\": 1.960753,\\n        \"BBD\": 2.161046,\\n        \"BDT\": 110.40739,\\n        \"BGN\": 1.956017,\\n        \"BHD\": 0.403525,\\n        \"BIF\": 2206.880801,\\n        \"BMD\": 1.070262,\\n        \"BND\": 1.434462,\\n        \"BOB\": 7.395839,\\n        \"BRL\": 5.658374,\\n        \"BSD\": 1.070297,\\n        \"BTC\": 6.4497905e-05,\\n        \"BTN\": 88.382331,\\n        \"BWP\": 13.651878,\\n        \"BYN\": 2.701583,\\n        \"BYR\": 20977.140498,\\n        \"BZD\": 2.157478,\\n        \"CAD\": 1.449617,\\n        \"CDF\": 2172.632796,\\n        \"CHF\": 0.989361,\\n        \"CLF\": 0.032911,\\n        \"CLP\": 908.121723,\\n        \"CNY\": 7.382995,\\n        \"COP\": 5189.348562,\\n        \"CRC\": 633.306768,\\n        \"CUC\": 1.070262,\\n        \"CUP\": 28.36195,\\n        \"CVE\": 110.562263,\\n        \"CZK\": 24.156038,\\n        \"DJF\": 190.207432,\\n        \"DKK\": 7.437296,\\n        \"DOP\": 60.202673,\\n        \"DZD\": 146.996216,\\n        \"EGP\": 26.499377,\\n        \"ERN\": 16.053934,\\n        \"ETB\": 57.370206,\\n        \"EUR\": 1,\\n        \"FJD\": 2.377096,\\n        \"FKP\": 0.887435,\\n        \"GBP\": 0.884684,\\n        \"GEL\": 2.893843,\\n        \"GGP\": 0.887435,\\n        \"GHS\": 572.487418,\\n        \"GIP\": 0.887435,\\n        \"GMD\": 66.303165,\\n        \"GNF\": 9386.200491,\\n        \"GTQ\": 8.399622,\\n        \"GYD\": 223.933772,\\n        \"HKD\": 8.358588,\\n        \"HNL\": 26.408764,\\n        \"HRK\": 7.537005,\\n        \"HTG\": 158.406215,\\n        \"HUF\": 399.347376,\\n        \"IDR\": 16617.748219,\\n        \"ILS\": 3.776153,\\n        \"IMP\": 0.887435,\\n        \"INR\": 88.615201,\\n        \"IQD\": 1563.118046,\\n        \"IRR\": 44790.47639,\\n        \"ISK\": 151.517443,\\n        \"JEP\": 0.887435,\\n        \"JMD\": 162.371518,\\n        \"JOD\": 0.759141,\\n        \"JPY\": 140.337609,\\n        \"KES\": 132.074435,\\n        \"KGS\": 91.700483,\\n        \"KHR\": 4406.270142,\\n        \"KMF\": 494.037127,\\n        \"KPW\": 963.231189,\\n        \"KRW\": 1348.306116,\\n        \"KWD\": 0.327297,\\n        \"KYD\": 0.891977,\\n        \"KZT\": 495.378537,\\n        \"LAK\": 18563.699452,\\n        \"LBP\": 1628.939549,\\n        \"LKR\": 393.35289,\\n        \"LRD\": 165.359561,\\n        \"LSL\": 18.077138,\\n        \"LTL\": 3.160207,\\n        \"LVL\": 0.647391,\\n        \"LYD\": 5.169774,\\n        \"MAD\": 11.197623,\\n        \"MDL\": 20.506318,\\n        \"MGA\": 4781.932195,\\n        \"MKD\": 61.767203,\\n        \"MMK\": 2247.729925,\\n        \"MNT\": 3677.688975,\\n        \"MOP\": 8.591934,\\n        \"MRO\": 382.083446,\\n        \"MUR\": 47.0913,\\n        \"MVR\": 16.493147,\\n        \"MWK\": 1094.878672,\\n        \"MXN\": 20.870093,\\n        \"MYR\": 4.734309,\\n        \"MZN\": 68.315245,\\n        \"NAD\": 18.077133,\\n        \"NGN\": 479.563522,\\n        \"NIO\": 38.925842,\\n        \"NOK\": 10.494548,\\n        \"NPR\": 141.41201,\\n        \"NZD\": 1.685786,\\n        \"OMR\": 0.412018,\\n        \"PAB\": 1.070332,\\n        \"PEN\": 4.053124,\\n        \"PGK\": 3.772716,\\n        \"PHP\": 59.699631,\\n        \"PKR\": 242.361292,\\n        \"PLN\": 4.689087,\\n        \"PYG\": 7881.72123,\\n        \"QAR\": 3.897093,\\n        \"RON\": 4.941442,\\n        \"RSD\": 117.258334,\\n        \"RUB\": 78.93174,\\n        \"RWF\": 1141.969842,\\n        \"SAR\": 4.022267,\\n        \"SBD\": 8.845294,\\n        \"SCR\": 14.346618,\\n        \"SDG\": 612.729086,\\n        \"SEK\": 11.161145,\\n        \"SGD\": 1.433942,\\n        \"SHP\": 1.474183,\\n        \"SLE\": 20.249579,\\n        \"SLL\": 20238.659894,\\n        \"SOS\": 608.448023,\\n        \"SRD\": 34.044013,\\n        \"STD\": 22152.268144,\\n        \"SVC\": 9.365998,\\n        \"SYP\": 2688.55667,\\n        \"SZL\": 18.077125,\\n        \"THB\": 37.07428,\\n        \"TJS\": 10.912362,\\n        \"TMT\": 3.756621,\\n        \"TND\": 3.34354,\\n        \"TOP\": 2.505752,\\n        \"TRY\": 20.024076,\\n        \"TTD\": 7.273531,\\n        \"TWD\": 32.759876,\\n        \"TZS\": 2495.851973,\\n        \"UAH\": 39.333875,\\n        \"UGX\": 3981.608838,\\n        \"USD\": 1.070262,\\n        \"UYU\": 42.776203,\\n        \"UZS\": 12013.694342,\\n        \"VEF\": 1828125.026591,\\n        \"VES\": 18.296994,\\n        \"VND\": 25295.648759,\\n        \"VUV\": 126.799315,\\n        \"WST\": 2.899268,\\n        \"XAF\": 657.635877,\\n        \"XAG\": 0.044657,\\n        \"XAU\": 0.000587,\\n        \"XCD\": 2.892438,\\n        \"XDR\": 0.804353,\\n        \"XOF\": 660.352176,\\n        \"XPF\": 120.194301,\\n        \"YER\": 267.833522,\\n        \"ZAR\": 18.201098,\\n        \"ZMK\": 9633.648588,\\n        \"ZMW\": 19.383713,\\n        \"ZWL\": 344.624014\\n    }\\n}\\n'"
      ]
     },
     "execution_count": 68,
     "metadata": {},
     "output_type": "execute_result"
    }
   ],
   "source": [
    "# Inspecting the content of the response (in 'bytes' format)\n",
    "response.content"
   ]
  },
  {
   "cell_type": "code",
   "execution_count": 69,
   "id": "76c45c79",
   "metadata": {},
   "outputs": [
    {
     "data": {
      "text/plain": [
       "{'success': True,\n",
       " 'timestamp': 1672436283,\n",
       " 'base': 'EUR',\n",
       " 'date': '2022-12-30',\n",
       " 'rates': {'AED': 3.93065,\n",
       "  'AFN': 93.652221,\n",
       "  'ALL': 114.518457,\n",
       "  'AMD': 421.39578,\n",
       "  'ANG': 1.929025,\n",
       "  'AOA': 539.081517,\n",
       "  'ARS': 189.159971,\n",
       "  'AUD': 1.570236,\n",
       "  'AWG': 1.926472,\n",
       "  'AZN': 1.823695,\n",
       "  'BAM': 1.960753,\n",
       "  'BBD': 2.161046,\n",
       "  'BDT': 110.40739,\n",
       "  'BGN': 1.956017,\n",
       "  'BHD': 0.403525,\n",
       "  'BIF': 2206.880801,\n",
       "  'BMD': 1.070262,\n",
       "  'BND': 1.434462,\n",
       "  'BOB': 7.395839,\n",
       "  'BRL': 5.658374,\n",
       "  'BSD': 1.070297,\n",
       "  'BTC': 6.4497905e-05,\n",
       "  'BTN': 88.382331,\n",
       "  'BWP': 13.651878,\n",
       "  'BYN': 2.701583,\n",
       "  'BYR': 20977.140498,\n",
       "  'BZD': 2.157478,\n",
       "  'CAD': 1.449617,\n",
       "  'CDF': 2172.632796,\n",
       "  'CHF': 0.989361,\n",
       "  'CLF': 0.032911,\n",
       "  'CLP': 908.121723,\n",
       "  'CNY': 7.382995,\n",
       "  'COP': 5189.348562,\n",
       "  'CRC': 633.306768,\n",
       "  'CUC': 1.070262,\n",
       "  'CUP': 28.36195,\n",
       "  'CVE': 110.562263,\n",
       "  'CZK': 24.156038,\n",
       "  'DJF': 190.207432,\n",
       "  'DKK': 7.437296,\n",
       "  'DOP': 60.202673,\n",
       "  'DZD': 146.996216,\n",
       "  'EGP': 26.499377,\n",
       "  'ERN': 16.053934,\n",
       "  'ETB': 57.370206,\n",
       "  'EUR': 1,\n",
       "  'FJD': 2.377096,\n",
       "  'FKP': 0.887435,\n",
       "  'GBP': 0.884684,\n",
       "  'GEL': 2.893843,\n",
       "  'GGP': 0.887435,\n",
       "  'GHS': 572.487418,\n",
       "  'GIP': 0.887435,\n",
       "  'GMD': 66.303165,\n",
       "  'GNF': 9386.200491,\n",
       "  'GTQ': 8.399622,\n",
       "  'GYD': 223.933772,\n",
       "  'HKD': 8.358588,\n",
       "  'HNL': 26.408764,\n",
       "  'HRK': 7.537005,\n",
       "  'HTG': 158.406215,\n",
       "  'HUF': 399.347376,\n",
       "  'IDR': 16617.748219,\n",
       "  'ILS': 3.776153,\n",
       "  'IMP': 0.887435,\n",
       "  'INR': 88.615201,\n",
       "  'IQD': 1563.118046,\n",
       "  'IRR': 44790.47639,\n",
       "  'ISK': 151.517443,\n",
       "  'JEP': 0.887435,\n",
       "  'JMD': 162.371518,\n",
       "  'JOD': 0.759141,\n",
       "  'JPY': 140.337609,\n",
       "  'KES': 132.074435,\n",
       "  'KGS': 91.700483,\n",
       "  'KHR': 4406.270142,\n",
       "  'KMF': 494.037127,\n",
       "  'KPW': 963.231189,\n",
       "  'KRW': 1348.306116,\n",
       "  'KWD': 0.327297,\n",
       "  'KYD': 0.891977,\n",
       "  'KZT': 495.378537,\n",
       "  'LAK': 18563.699452,\n",
       "  'LBP': 1628.939549,\n",
       "  'LKR': 393.35289,\n",
       "  'LRD': 165.359561,\n",
       "  'LSL': 18.077138,\n",
       "  'LTL': 3.160207,\n",
       "  'LVL': 0.647391,\n",
       "  'LYD': 5.169774,\n",
       "  'MAD': 11.197623,\n",
       "  'MDL': 20.506318,\n",
       "  'MGA': 4781.932195,\n",
       "  'MKD': 61.767203,\n",
       "  'MMK': 2247.729925,\n",
       "  'MNT': 3677.688975,\n",
       "  'MOP': 8.591934,\n",
       "  'MRO': 382.083446,\n",
       "  'MUR': 47.0913,\n",
       "  'MVR': 16.493147,\n",
       "  'MWK': 1094.878672,\n",
       "  'MXN': 20.870093,\n",
       "  'MYR': 4.734309,\n",
       "  'MZN': 68.315245,\n",
       "  'NAD': 18.077133,\n",
       "  'NGN': 479.563522,\n",
       "  'NIO': 38.925842,\n",
       "  'NOK': 10.494548,\n",
       "  'NPR': 141.41201,\n",
       "  'NZD': 1.685786,\n",
       "  'OMR': 0.412018,\n",
       "  'PAB': 1.070332,\n",
       "  'PEN': 4.053124,\n",
       "  'PGK': 3.772716,\n",
       "  'PHP': 59.699631,\n",
       "  'PKR': 242.361292,\n",
       "  'PLN': 4.689087,\n",
       "  'PYG': 7881.72123,\n",
       "  'QAR': 3.897093,\n",
       "  'RON': 4.941442,\n",
       "  'RSD': 117.258334,\n",
       "  'RUB': 78.93174,\n",
       "  'RWF': 1141.969842,\n",
       "  'SAR': 4.022267,\n",
       "  'SBD': 8.845294,\n",
       "  'SCR': 14.346618,\n",
       "  'SDG': 612.729086,\n",
       "  'SEK': 11.161145,\n",
       "  'SGD': 1.433942,\n",
       "  'SHP': 1.474183,\n",
       "  'SLE': 20.249579,\n",
       "  'SLL': 20238.659894,\n",
       "  'SOS': 608.448023,\n",
       "  'SRD': 34.044013,\n",
       "  'STD': 22152.268144,\n",
       "  'SVC': 9.365998,\n",
       "  'SYP': 2688.55667,\n",
       "  'SZL': 18.077125,\n",
       "  'THB': 37.07428,\n",
       "  'TJS': 10.912362,\n",
       "  'TMT': 3.756621,\n",
       "  'TND': 3.34354,\n",
       "  'TOP': 2.505752,\n",
       "  'TRY': 20.024076,\n",
       "  'TTD': 7.273531,\n",
       "  'TWD': 32.759876,\n",
       "  'TZS': 2495.851973,\n",
       "  'UAH': 39.333875,\n",
       "  'UGX': 3981.608838,\n",
       "  'USD': 1.070262,\n",
       "  'UYU': 42.776203,\n",
       "  'UZS': 12013.694342,\n",
       "  'VEF': 1828125.026591,\n",
       "  'VES': 18.296994,\n",
       "  'VND': 25295.648759,\n",
       "  'VUV': 126.799315,\n",
       "  'WST': 2.899268,\n",
       "  'XAF': 657.635877,\n",
       "  'XAG': 0.044657,\n",
       "  'XAU': 0.000587,\n",
       "  'XCD': 2.892438,\n",
       "  'XDR': 0.804353,\n",
       "  'XOF': 660.352176,\n",
       "  'XPF': 120.194301,\n",
       "  'YER': 267.833522,\n",
       "  'ZAR': 18.201098,\n",
       "  'ZMK': 9633.648588,\n",
       "  'ZMW': 19.383713,\n",
       "  'ZWL': 344.624014}}"
      ]
     },
     "execution_count": 69,
     "metadata": {},
     "output_type": "execute_result"
    }
   ],
   "source": [
    "# Requests has in-build method to directly convert the response to JSON format\n",
    "response.json()"
   ]
  },
  {
   "cell_type": "code",
   "execution_count": 70,
   "id": "1657a8a0",
   "metadata": {},
   "outputs": [
    {
     "data": {
      "text/plain": [
       "dict"
      ]
     },
     "execution_count": 70,
     "metadata": {},
     "output_type": "execute_result"
    }
   ],
   "source": [
    "# In Python, this JSON is stored as a dictionary\n",
    "type(response.json())"
   ]
  }
 ],
 "metadata": {
  "kernelspec": {
   "display_name": "Python 3 (ipykernel)",
   "language": "python",
   "name": "python3"
  },
  "language_info": {
   "codemirror_mode": {
    "name": "ipython",
    "version": 3
   },
   "file_extension": ".py",
   "mimetype": "text/x-python",
   "name": "python",
   "nbconvert_exporter": "python",
   "pygments_lexer": "ipython3",
   "version": "3.9.13"
  }
 },
 "nbformat": 4,
 "nbformat_minor": 5
}
